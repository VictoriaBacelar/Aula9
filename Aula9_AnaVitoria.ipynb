{
 "cells": [
  {
   "cell_type": "code",
   "execution_count": 0,
   "metadata": {
    "colab": {},
    "colab_type": "code",
    "collapsed": true,
    "id": "xhNu7h6JVjJ_"
   },
   "outputs": [],
   "source": []
  },
  {
   "cell_type": "code",
   "execution_count": 14,
   "metadata": {
    "colab": {
     "base_uri": "https://localhost:8080/",
     "height": 102
    },
    "colab_type": "code",
    "id": "mGvOc86lYuC_",
    "outputId": "c7fb0f54-86ba-45d7-95be-2ea703f5ce51"
   },
   "outputs": [
    {
     "name": "stdout",
     "output_type": "stream",
     "text": [
      "Resoluçaõ a partir do def:\n",
      "[2.995, 0.18999999999999995, 0.275, 0.2]\n",
      "\n",
      "Resoluçaõ pelo linalg.solver:\n",
      "[2.995 0.19  0.275 0.2  ]\n"
     ]
    }
   ],
   "source": [
    "#Def 1\n",
    "\n",
    "import numpy as np\n",
    "def resolution (a,b):\n",
    "    n = len(a)\n",
    "    x = n*[0]\n",
    "    x[n-1] = b[n-1]/a[n-1][n-1]\n",
    "    for i in range(n-2,-1,-1):\n",
    "      s=0\n",
    "      for j in range(i+1,n):\n",
    "        s = s + (a[i][j]*x[j])\n",
    "      x[i] = (b[i] - s) /a[i][i]\n",
    "    return x\n",
    "\n",
    "\n",
    "a = np.array([[1,2,3,4],[0,5,6,7],[0,0,8,9],[0,0,0,10]])\n",
    "b = np.array([5,4,4,2])\n",
    "\n",
    "print(\"Resoluçaõ a partir do def:\")\n",
    "print(resolution(a,b))\n",
    "print(\"\")\n",
    "print(\"Resoluçaõ pelo linalg.solver:\")\n",
    "resp = np.linalg.solve(a,b)\n",
    "print(resp)\n"
   ]
  },
  {
   "cell_type": "code",
   "execution_count": 16,
   "metadata": {
    "colab": {
     "base_uri": "https://localhost:8080/",
     "height": 170
    },
    "colab_type": "code",
    "id": "J5-s7gkI-P3t",
    "outputId": "f72ed227-9c4e-4128-b03a-b5e8676b96b2"
   },
   "outputs": [
    {
     "name": "stdout",
     "output_type": "stream",
     "text": [
      "Matriz inicial\n",
      "[[ 2  1 -3]\n",
      " [-1  3  2]\n",
      " [ 3  1 -3]]\n",
      "\n",
      "Matriz final / P.S: Está arredondando os valores\n",
      "[[ 2  1 -3]\n",
      " [ 0  3  0]\n",
      " [ 0  0  1]]\n"
     ]
    }
   ],
   "source": [
    "\n",
    "#Def 2\n",
    "\n",
    "import numpy as np\n",
    "def resolution (a,b):\n",
    "    n = len(a)\n",
    "    m = n*[0]\n",
    "    \n",
    "    for k in range(0,n-1):\n",
    "      for i in range(k+1,n):\n",
    "        m = a[i][k]/a[k][k]\n",
    "        a[i][k]=0\n",
    "        for j in range(k+1,n):\n",
    "          a[i][j] = a[i][j] - (m*a[k][j])\n",
    "          b[i] = b[i] - (m*b[k])\n",
    "          \n",
    "  \n",
    "    return a\n",
    "\n",
    "a = np.array([[2,(1),(-3)], [-1,3,(2)], [(3),(1),(-3)]])\n",
    "b = np.array([-1,12,0])\n",
    "\n",
    "print(\"Matriz inicial\")\n",
    "print(a)\n",
    "print(\"\")\n",
    "print(\"Matriz final / P.S: Está arredondando os valores\")\n",
    "\n",
    "print(resolution(a,b))\n",
    "\n",
    "#Matriz final,se não estivesse arredondando para baixo, seria:\n",
    "#[[ 2,  1,   -3],\n",
    "#[ 0,  7/2, 1/2], -----> 7/2 => 3,5 => 3\n",
    "#[ 0,  0,  11/7]])"
   ]
  },
  {
   "cell_type": "code",
   "execution_count": 5,
   "metadata": {},
   "outputs": [
    {
     "name": "stdout",
     "output_type": "stream",
     "text": [
      "Matriz inicial\n",
      "[[ 0  2  1]\n",
      " [-1  3  2]\n",
      " [ 3  1 -3]]\n",
      "\n",
      "Matriz final / P.S: Está arredondando os valores\n",
      "Erro\n"
     ]
    },
    {
     "name": "stderr",
     "output_type": "stream",
     "text": [
      "C:\\ProgramData\\Anaconda3\\lib\\site-packages\\ipykernel_launcher.py:11: RuntimeWarning: divide by zero encountered in long_scalars\n",
      "  # This is added back by InteractiveShellApp.init_path()\n"
     ]
    },
    {
     "ename": "OverflowError",
     "evalue": "cannot convert float infinity to integer",
     "output_type": "error",
     "traceback": [
      "\u001b[1;31m---------------------------------------------------------------------------\u001b[0m",
      "\u001b[1;31mOverflowError\u001b[0m                             Traceback (most recent call last)",
      "\u001b[1;32m<ipython-input-5-404aba991a48>\u001b[0m in \u001b[0;36m<module>\u001b[1;34m()\u001b[0m\n\u001b[0;32m     26\u001b[0m \u001b[0mprint\u001b[0m\u001b[1;33m(\u001b[0m\u001b[1;34m\"Matriz final / P.S: Está arredondando os valores\"\u001b[0m\u001b[1;33m)\u001b[0m\u001b[1;33m\u001b[0m\u001b[0m\n\u001b[0;32m     27\u001b[0m \u001b[1;33m\u001b[0m\u001b[0m\n\u001b[1;32m---> 28\u001b[1;33m \u001b[0mprint\u001b[0m\u001b[1;33m(\u001b[0m\u001b[0mresolution\u001b[0m\u001b[1;33m(\u001b[0m\u001b[0ma\u001b[0m\u001b[1;33m,\u001b[0m\u001b[0mb\u001b[0m\u001b[1;33m)\u001b[0m\u001b[1;33m)\u001b[0m\u001b[1;33m\u001b[0m\u001b[0m\n\u001b[0m\u001b[0;32m     29\u001b[0m \u001b[1;33m\u001b[0m\u001b[0m\n",
      "\u001b[1;32m<ipython-input-5-404aba991a48>\u001b[0m in \u001b[0;36mresolution\u001b[1;34m(a, b)\u001b[0m\n\u001b[0;32m     12\u001b[0m         \u001b[0ma\u001b[0m\u001b[1;33m[\u001b[0m\u001b[0mi\u001b[0m\u001b[1;33m]\u001b[0m\u001b[1;33m[\u001b[0m\u001b[0mk\u001b[0m\u001b[1;33m]\u001b[0m\u001b[1;33m=\u001b[0m\u001b[1;36m0\u001b[0m\u001b[1;33m\u001b[0m\u001b[0m\n\u001b[0;32m     13\u001b[0m         \u001b[1;32mfor\u001b[0m \u001b[0mj\u001b[0m \u001b[1;32min\u001b[0m \u001b[0mrange\u001b[0m\u001b[1;33m(\u001b[0m\u001b[0mk\u001b[0m\u001b[1;33m+\u001b[0m\u001b[1;36m1\u001b[0m\u001b[1;33m,\u001b[0m\u001b[0mn\u001b[0m\u001b[1;33m)\u001b[0m\u001b[1;33m:\u001b[0m\u001b[1;33m\u001b[0m\u001b[0m\n\u001b[1;32m---> 14\u001b[1;33m           \u001b[0ma\u001b[0m\u001b[1;33m[\u001b[0m\u001b[0mi\u001b[0m\u001b[1;33m]\u001b[0m\u001b[1;33m[\u001b[0m\u001b[0mj\u001b[0m\u001b[1;33m]\u001b[0m \u001b[1;33m=\u001b[0m \u001b[0ma\u001b[0m\u001b[1;33m[\u001b[0m\u001b[0mi\u001b[0m\u001b[1;33m]\u001b[0m\u001b[1;33m[\u001b[0m\u001b[0mj\u001b[0m\u001b[1;33m]\u001b[0m \u001b[1;33m-\u001b[0m \u001b[1;33m(\u001b[0m\u001b[0mm\u001b[0m\u001b[1;33m*\u001b[0m\u001b[0ma\u001b[0m\u001b[1;33m[\u001b[0m\u001b[0mk\u001b[0m\u001b[1;33m]\u001b[0m\u001b[1;33m[\u001b[0m\u001b[0mj\u001b[0m\u001b[1;33m]\u001b[0m\u001b[1;33m)\u001b[0m\u001b[1;33m\u001b[0m\u001b[0m\n\u001b[0m\u001b[0;32m     15\u001b[0m           \u001b[0mb\u001b[0m\u001b[1;33m[\u001b[0m\u001b[0mi\u001b[0m\u001b[1;33m]\u001b[0m \u001b[1;33m=\u001b[0m \u001b[0mb\u001b[0m\u001b[1;33m[\u001b[0m\u001b[0mi\u001b[0m\u001b[1;33m]\u001b[0m \u001b[1;33m-\u001b[0m \u001b[1;33m(\u001b[0m\u001b[0mm\u001b[0m\u001b[1;33m*\u001b[0m\u001b[0mb\u001b[0m\u001b[1;33m[\u001b[0m\u001b[0mk\u001b[0m\u001b[1;33m]\u001b[0m\u001b[1;33m)\u001b[0m\u001b[1;33m\u001b[0m\u001b[0m\n\u001b[0;32m     16\u001b[0m \u001b[1;33m\u001b[0m\u001b[0m\n",
      "\u001b[1;31mOverflowError\u001b[0m: cannot convert float infinity to integer"
     ]
    }
   ],
   "source": [
    "\n"
   ]
  },
  {
   "cell_type": "code",
   "execution_count": 12,
   "metadata": {},
   "outputs": [
    {
     "name": "stdout",
     "output_type": "stream",
     "text": [
      "[[ 3  2  4 -1]\n",
      " [ 0  1  0  3]\n",
      " [ 0 -3 -5  7]\n",
      " [ 0  2  4  0]]\n",
      "n  3\n",
      "n Ultimo  3 \n",
      "\n",
      "[-3  2]\n",
      "colAbs \n",
      " [3 2]\n",
      "0\n",
      "[[ 3  2  4 -1]\n",
      " [ 0 -3 -5  7]\n",
      " [ 0  1  0  3]\n",
      " [ 0  2  4  0]]\n",
      "j 2\n",
      "j 3\n",
      "n Ultimo  3 \n",
      "\n",
      "[2]\n",
      "colAbs \n",
      " [2]\n",
      "0\n",
      "[[ 3  2  4 -1]\n",
      " [ 0  2  4  0]\n",
      " [ 0  0  0  3]\n",
      " [ 0 -3 -5  7]]\n",
      "j 2\n",
      "j 3\n",
      "n Ultimo  3 \n",
      "\n",
      "[-5]\n",
      "colAbs \n",
      " [5]\n",
      "0\n",
      "[[ 3  2  4 -1]\n",
      " [ 0  2  4  0]\n",
      " [ 0  0 -5  7]\n",
      " [ 0  0  0  3]]\n",
      "j 3\n"
     ]
    },
    {
     "data": {
      "text/plain": [
       "array([[ 3,  2,  4, -1],\n",
       "       [ 0,  2,  4,  0],\n",
       "       [ 0,  0, -5,  7],\n",
       "       [ 0,  0,  0,  3]])"
      ]
     },
     "execution_count": 12,
     "metadata": {},
     "output_type": "execute_result"
    }
   ],
   "source": [
    "import numpy as np\n",
    "\n",
    "def pivoteamento(A, k, i):\n",
    "\n",
    "  n = np.shape(A)[0] - 1 #último index\n",
    "  print('n Ultimo ', n, '\\n')\n",
    "\n",
    "  #slicing\n",
    "  print( np.array( A[ i : n + 1, k ] ) )\n",
    "\n",
    "  #Localizando o  maior valor na coluna do pivô, depois do pivô\n",
    "  col = A[ i : n + 1, k ]\n",
    "\n",
    "  colAbs = np.abs( col )\n",
    "  print( 'colAbs \\n', colAbs )\n",
    "\n",
    "  indexMax = np.argmax( colAbs )\n",
    "  print( indexMax )\n",
    "\n",
    "\n",
    "  #Trocando a coluna\n",
    "  iChange = indexMax + i\n",
    "  #print( ,iChange )\n",
    "\n",
    "  aux = np.copy( A[ k, : ] )\n",
    "  #print( aux )\n",
    "\n",
    "  A[ k, : ] = np.copy( A[ iChange, : ] )\n",
    "  A[ iChange, : ] = np.copy( aux )\n",
    "\n",
    "  print(A)\n",
    "\n",
    "  return A\n",
    "\n",
    "\n",
    "def applyGaussElimination( A, b, n ): #Linha do pivô\n",
    "    for k in np.arange( 1, n ): #\n",
    "\n",
    "        for i in np.arange( k + 1, n + 1 ): \n",
    "\n",
    "            A = pivoteamento(A,k,i) \n",
    "            m = A[ i, k ] / A[ k, k ] \n",
    "            A[ i, k ] = 0\n",
    "            for j in np.arange( k + 1, n + 1 ):\n",
    "                print('j', j )\n",
    "        \n",
    "    return A\n",
    "\n",
    "\n",
    "\n",
    "b = np.array( [ 5., 6., 7., 15. ] )\n",
    "\n",
    "Amat  = np.matrix([[3, 2, 4, -1], [0, 1, 0, 3], [0, -3, -5, 7], [0, 2, 4, 0] ])\n",
    "\n",
    "A = Amat\n",
    "print(A)\n",
    "\n",
    "n = np.shape(A)[0] - 1#último index\n",
    "print('n ', n)\n",
    "\n",
    "applyGaussElimination( np.copy( A ), np.copy( b ), n )\n"
   ]
  },
  {
   "cell_type": "code",
   "execution_count": null,
   "metadata": {
    "collapsed": true
   },
   "outputs": [],
   "source": []
  }
 ],
 "metadata": {
  "colab": {
   "name": "Aula8_AnaVitoria.ipynb",
   "provenance": [],
   "version": "0.3.2"
  },
  "kernelspec": {
   "display_name": "Python 3",
   "language": "python",
   "name": "python3"
  },
  "language_info": {
   "codemirror_mode": {
    "name": "ipython",
    "version": 3
   },
   "file_extension": ".py",
   "mimetype": "text/x-python",
   "name": "python",
   "nbconvert_exporter": "python",
   "pygments_lexer": "ipython3",
   "version": "3.6.2"
  }
 },
 "nbformat": 4,
 "nbformat_minor": 1
}
