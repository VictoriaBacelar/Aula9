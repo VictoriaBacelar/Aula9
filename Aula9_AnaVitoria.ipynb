import numpy as np

def pivoteamento(A, k, i):

  n = np.shape(A)[0] - 1 #último index
  print('n Ultimo ', n, '\n')

  #slicing
  print( np.array( A[ i : n + 1, k ] ) )

  #Localizando o  maior valor na coluna do pivô, depois do pivô
  col = A[ i : n + 1, k ]

  colAbs = np.abs( col )
  print( 'colAbs \n', colAbs )

  indexMax = np.argmax( colAbs )
  print( indexMax )


  #Trocando a coluna
  iChange = indexMax + i
  #print( "coluninha",iChange )

  aux = np.copy( A[ k, : ] )
  #print( aux )

  A[ k, : ] = np.copy( A[ iChange, : ] )
  A[ iChange, : ] = np.copy( aux )

  print(A)

  return A


def applyGaussElimination( A, b, n ): #Linha do pivô
    for k in np.arange( 1, n ): #

        for i in np.arange( k + 1, n + 1 ): 

            A = pivoteamento(A,k,i) 
            m = A[ i, k ] / A[ k, k ] 
            A[ i, k ] = 0
            for j in np.arange( k + 1, n + 1 ):
                print('j', j )
        
    return A



b = np.array( [ 5., 6., 7., 15. ] )

Amat  = np.matrix([[3, 2, 4, -1], [0, 1, 0, 3], [0, -3, -5, 7], [0, 2, 4, 0] ])

A = Amat
print(A)

n = np.shape(A)[0] - 1#último index
print('n ', n)

applyGaussElimination( np.copy( A ), np.copy( b ), n )
