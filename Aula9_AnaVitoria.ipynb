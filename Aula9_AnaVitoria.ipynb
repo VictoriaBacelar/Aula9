{
 "cells": [
  {
   "cell_type": "code",
   "execution_count": 0,
   "metadata": {
    "colab": {},
    "colab_type": "code",
    "collapsed": true,
    "id": "xhNu7h6JVjJ_"
   },
   "outputs": [],
   "source": []
  },
  {
   "cell_type": "code",
   "execution_count": null,
   "metadata": {
    "colab": {
     "base_uri": "https://localhost:8080/",
     "height": 102
    },
    "colab_type": "code",
    "collapsed": true,
    "id": "mGvOc86lYuC_",
    "outputId": "c7fb0f54-86ba-45d7-95be-2ea703f5ce51"
   },
   "outputs": [],
   "source": []
  },
  {
   "cell_type": "code",
   "execution_count": null,
   "metadata": {
    "colab": {
     "base_uri": "https://localhost:8080/",
     "height": 170
    },
    "colab_type": "code",
    "collapsed": true,
    "id": "J5-s7gkI-P3t",
    "outputId": "f72ed227-9c4e-4128-b03a-b5e8676b96b2"
   },
   "outputs": [],
   "source": []
  },
  {
   "cell_type": "code",
   "execution_count": null,
   "metadata": {
    "collapsed": true
   },
   "outputs": [],
   "source": [
    "\n"
   ]
  },
  {
   "cell_type": "code",
   "execution_count": 12,
   "metadata": {},
   "outputs": [
    {
     "name": "stdout",
     "output_type": "stream",
     "text": [
      "[[ 3  2  4 -1]\n",
      " [ 0  1  0  3]\n",
      " [ 0 -3 -5  7]\n",
      " [ 0  2  4  0]]\n",
      "n  3\n",
      "n Ultimo  3 \n",
      "\n",
      "[-3  2]\n",
      "colAbs \n",
      " [3 2]\n",
      "0\n",
      "[[ 3  2  4 -1]\n",
      " [ 0 -3 -5  7]\n",
      " [ 0  1  0  3]\n",
      " [ 0  2  4  0]]\n",
      "j 2\n",
      "j 3\n",
      "n Ultimo  3 \n",
      "\n",
      "[2]\n",
      "colAbs \n",
      " [2]\n",
      "0\n",
      "[[ 3  2  4 -1]\n",
      " [ 0  2  4  0]\n",
      " [ 0  0  0  3]\n",
      " [ 0 -3 -5  7]]\n",
      "j 2\n",
      "j 3\n",
      "n Ultimo  3 \n",
      "\n",
      "[-5]\n",
      "colAbs \n",
      " [5]\n",
      "0\n",
      "[[ 3  2  4 -1]\n",
      " [ 0  2  4  0]\n",
      " [ 0  0 -5  7]\n",
      " [ 0  0  0  3]]\n",
      "j 3\n"
     ]
    },
    {
     "data": {
      "text/plain": [
       "array([[ 3,  2,  4, -1],\n",
       "       [ 0,  2,  4,  0],\n",
       "       [ 0,  0, -5,  7],\n",
       "       [ 0,  0,  0,  3]])"
      ]
     },
     "execution_count": 12,
     "metadata": {},
     "output_type": "execute_result"
    }
   ],
   "source": [
    "import numpy as np\n",
    "\n",
    "def pivoteamento(A, k, i):\n",
    "\n",
    "  n = np.shape(A)[0] - 1 #último index\n",
    "  print('n Ultimo ', n, '\\n')\n",
    "\n",
    "  #slicing\n",
    "  print( np.array( A[ i : n + 1, k ] ) )\n",
    "\n",
    "  #Localizando o  maior valor na coluna do pivô, depois do pivô\n",
    "  col = A[ i : n + 1, k ]\n",
    "\n",
    "  colAbs = np.abs( col )\n",
    "  print( 'colAbs \\n', colAbs )\n",
    "\n",
    "  indexMax = np.argmax( colAbs )\n",
    "  print( indexMax )\n",
    "\n",
    "\n",
    "  #Trocando a coluna\n",
    "  iChange = indexMax + i\n",
    "  #print( ,iChange )\n",
    "\n",
    "  aux = np.copy( A[ k, : ] )\n",
    "  #print( aux )\n",
    "\n",
    "  A[ k, : ] = np.copy( A[ iChange, : ] )\n",
    "  A[ iChange, : ] = np.copy( aux )\n",
    "\n",
    "  print(A)\n",
    "\n",
    "  return A\n",
    "\n",
    "\n",
    "def applyGaussElimination( A, b, n ): #Linha do pivô\n",
    "    for k in np.arange( 1, n ): #\n",
    "\n",
    "        for i in np.arange( k + 1, n + 1 ): \n",
    "\n",
    "            A = pivoteamento(A,k,i) \n",
    "            m = A[ i, k ] / A[ k, k ] \n",
    "            A[ i, k ] = 0\n",
    "            for j in np.arange( k + 1, n + 1 ):\n",
    "                print('j', j )\n",
    "        \n",
    "    return A\n",
    "\n",
    "\n",
    "\n",
    "b = np.array( [ 5., 6., 7., 15. ] )\n",
    "\n",
    "Amat  = np.matrix([[3, 2, 4, -1], [0, 1, 0, 3], [0, -3, -5, 7], [0, 2, 4, 0] ])\n",
    "\n",
    "A = Amat\n",
    "print(A)\n",
    "\n",
    "n = np.shape(A)[0] - 1#último index\n",
    "print('n ', n)\n",
    "\n",
    "applyGaussElimination( np.copy( A ), np.copy( b ), n )\n"
   ]
  },
  {
   "cell_type": "code",
   "execution_count": null,
   "metadata": {
    "collapsed": true
   },
   "outputs": [],
   "source": [
    "np.linalg.solver([0.00])"
   ]
  }
 ],
 "metadata": {
  "colab": {
   "name": "Aula8_AnaVitoria.ipynb",
   "provenance": [],
   "version": "0.3.2"
  },
  "kernelspec": {
   "display_name": "Python 3",
   "language": "python",
   "name": "python3"
  },
  "language_info": {
   "codemirror_mode": {
    "name": "ipython",
    "version": 3
   },
   "file_extension": ".py",
   "mimetype": "text/x-python",
   "name": "python",
   "nbconvert_exporter": "python",
   "pygments_lexer": "ipython3",
   "version": "3.6.2"
  }
 },
 "nbformat": 4,
 "nbformat_minor": 1
}
